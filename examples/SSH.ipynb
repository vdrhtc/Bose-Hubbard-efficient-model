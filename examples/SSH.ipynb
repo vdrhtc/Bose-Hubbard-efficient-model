{
 "cells": [
  {
   "cell_type": "markdown",
   "metadata": {},
   "source": [
    "SSH model with (a_n, b_n) cells with intracell couplings v and intercell couplings w\n",
    "\n",
    "\\begin{equation}\n",
    "\\hat{H}=v \\sum_{n=1}^N({\\hat{a}_{n}}^{\\dagger} \\hat{b}_{n} +h.c.)+w\\sum_{n=1}^{N-1}({\\hat{b}_{n}}^{\\dagger} \\hat{a}_{n+1} + h.c.)\n",
    "\\end{equation}\n",
    "\n",
    "$\\hat a_n$ operators will indexed by $2n$, while $\\hat b_n$ will go by 2n+1 in the code below"
   ]
  },
  {
   "cell_type": "code",
   "execution_count": 1,
   "metadata": {},
   "outputs": [],
   "source": [
    "from math import pi\n",
    "import numpy as np\n",
    "from qutip import steadystate, expect, Qobj\n",
    "import matplotlib.pyplot as plt\n",
    "\n",
    "import sys\n",
    "import os\n",
    " \n",
    "sys.path.append(os.path.dirname(os.getcwd()))\n",
    "\n",
    "from main import QSystem"
   ]
  },
  {
   "cell_type": "code",
   "execution_count": 14,
   "metadata": {},
   "outputs": [],
   "source": [
    "N = 20  # 20 cells, 40 sites\n",
    "\n",
    "v = .1\n",
    "w = 1"
   ]
  },
  {
   "cell_type": "code",
   "execution_count": 15,
   "metadata": {},
   "outputs": [],
   "source": [
    "single_photon_states = [[1 if j == i else 0 for j in range(2*N)] for i in range(2*N)]  # 2N site-localized basis states\n",
    "\n",
    "couplings = [[2*n, 2*n+1, v] for n in range(N)] + [[2*n+1, 2*n+2, w] for n in range(N-1)]"
   ]
  },
  {
   "cell_type": "code",
   "execution_count": 16,
   "metadata": {},
   "outputs": [],
   "source": [
    "system = QSystem(list(zip(range(39), []*40)), couplings, single_photon_states)  # initialization of the system"
   ]
  },
  {
   "cell_type": "code",
   "execution_count": 17,
   "metadata": {},
   "outputs": [],
   "source": [
    "H = system.H_matrix()"
   ]
  },
  {
   "cell_type": "code",
   "execution_count": 18,
   "metadata": {},
   "outputs": [],
   "source": [
    "evals, evecs = H.eigenstates()"
   ]
  },
  {
   "cell_type": "code",
   "execution_count": 19,
   "metadata": {},
   "outputs": [
    {
     "data": {
      "text/plain": [
       "array([-1.09889025e+00, -1.09558108e+00, -1.09013269e+00, -1.08264532e+00,\n",
       "       -1.07325918e+00, -1.06215408e+00, -1.04954893e+00, -1.03570072e+00,\n",
       "       -1.02090295e+00, -1.00548306e+00, -9.89798713e-01, -9.74232377e-01,\n",
       "       -9.59183882e-01, -9.45060635e-01, -9.32265283e-01, -9.21180979e-01,\n",
       "       -9.12154818e-01, -9.05480543e-01, -9.01382109e-01, -1.97297691e-16,\n",
       "        2.26013532e-16,  9.01382109e-01,  9.05480543e-01,  9.12154818e-01,\n",
       "        9.21180979e-01,  9.32265283e-01,  9.45060635e-01,  9.59183882e-01,\n",
       "        9.74232377e-01,  9.89798713e-01,  1.00548306e+00,  1.02090295e+00,\n",
       "        1.03570072e+00,  1.04954893e+00,  1.06215408e+00,  1.07325918e+00,\n",
       "        1.08264532e+00,  1.09013269e+00,  1.09558108e+00,  1.09889025e+00])"
      ]
     },
     "execution_count": 19,
     "metadata": {},
     "output_type": "execute_result"
    }
   ],
   "source": [
    "evals"
   ]
  },
  {
   "cell_type": "code",
   "execution_count": 20,
   "metadata": {},
   "outputs": [
    {
     "data": {
      "text/plain": [
       "[<matplotlib.lines.Line2D at 0x7faa76360b60>]"
      ]
     },
     "execution_count": 20,
     "metadata": {},
     "output_type": "execute_result"
    },
    {
     "data": {
      "image/png": "[encoded data removed]",
      "text/plain": [
       "<Figure size 640x480 with 1 Axes>"
      ]
     },
     "metadata": {},
     "output_type": "display_data"
    }
   ],
   "source": [
    "plt.plot(evals, \".\")"
   ]
  },
  {
   "cell_type": "code",
   "execution_count": null,
   "metadata": {},
   "outputs": [],
   "source": []
  }
 ],
 "metadata": {
  "kernelspec": {
   "display_name": "Python 3 (ipykernel)",
   "language": "python",
   "name": "python3"
  },
  "language_info": {
   "codemirror_mode": {
    "name": "ipython",
    "version": 3
   },
   "file_extension": ".py",
   "mimetype": "text/x-python",
   "name": "python",
   "nbconvert_exporter": "python",
   "pygments_lexer": "ipython3",
   "version": "3.12.8"
  }
 },
 "nbformat": 4,
 "nbformat_minor": 4
}
